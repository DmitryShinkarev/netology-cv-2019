{
  "nbformat": 4,
  "nbformat_minor": 0,
  "metadata": {
    "colab": {
      "name": "007-Transfer_learning.ipynb",
      "provenance": [],
      "collapsed_sections": [],
      "authorship_tag": "ABX9TyNaEvpTN25DptkdXGqyWCE9",
      "include_colab_link": true
    },
    "kernelspec": {
      "name": "python3",
      "display_name": "Python 3"
    }
  },
  "cells": [
    {
      "cell_type": "markdown",
      "metadata": {
        "id": "view-in-github",
        "colab_type": "text"
      },
      "source": [
        "<a href=\"https://colab.research.google.com/github/vadim0x60/netology-cv-2019/blob/master/day7/007_Transfer_learning.ipynb\" target=\"_parent\"><img src=\"https://colab.research.google.com/assets/colab-badge.svg\" alt=\"Open In Colab\"/></a>"
      ]
    },
    {
      "cell_type": "markdown",
      "metadata": {
        "id": "AT4PevaYEAfX",
        "colab_type": "text"
      },
      "source": [
        "# Пример transfer learning\n",
        "\n",
        "**Source:** https://gist.github.com/L0SG/2f6d81e4ad119c4f798ab81fa8d62d3f"
      ]
    },
    {
      "cell_type": "code",
      "metadata": {
        "id": "YAGxhhBBDtgJ",
        "colab_type": "code",
        "colab": {}
      },
      "source": [
        "import torch\n",
        "from torch import nn\n",
        "from torch.autograd import Variable\n",
        "import torch.nn.functional as F\n",
        "import torch.optim as optim"
      ],
      "execution_count": 0,
      "outputs": []
    },
    {
      "cell_type": "markdown",
      "metadata": {
        "id": "CsEVeBnDFY9q",
        "colab_type": "text"
      },
      "source": [
        "# Объявление модели"
      ]
    },
    {
      "cell_type": "code",
      "metadata": {
        "id": "QGxgQyo5D4EW",
        "colab_type": "code",
        "colab": {}
      },
      "source": [
        "# toy feed-forward net\n",
        "class Net(nn.Module):\n",
        "    def __init__(self):\n",
        "        super(Net, self).__init__()\n",
        "\n",
        "        self.fc1 = nn.Linear(10, 5)\n",
        "        self.fc2 = nn.Linear(5, 5)\n",
        "        self.fc3 = nn.Linear(5, 1)\n",
        "\n",
        "    def forward(self, x):\n",
        "        x = self.fc1(x)\n",
        "        x = self.fc2(x)\n",
        "        x = self.fc3(x)\n",
        "        return x"
      ],
      "execution_count": 0,
      "outputs": []
    },
    {
      "cell_type": "markdown",
      "metadata": {
        "id": "pLu6kHbcGGs-",
        "colab_type": "text"
      },
      "source": [
        "# Обучение"
      ]
    },
    {
      "cell_type": "code",
      "metadata": {
        "id": "PFKui2ViD7E9",
        "colab_type": "code",
        "colab": {}
      },
      "source": [
        "# define random data\n",
        "random_input = Variable(torch.randn(100,10))\n",
        "random_target = torch.zeros(random_input.shape[0],1)\n",
        "random_target[:,0] = (random_input**2).sum(axis=1)\n",
        "\n",
        "print(random_input.shape)\n",
        "print(random_target.shape)"
      ],
      "execution_count": 0,
      "outputs": []
    },
    {
      "cell_type": "code",
      "metadata": {
        "id": "YPHNGqhLGhB9",
        "colab_type": "code",
        "colab": {}
      },
      "source": [
        "# define net\n",
        "net = Net()\n",
        "\n",
        "# print fc2 weight\n",
        "print('fc2 weight before train:')\n",
        "print(net.fc2.weight)\n",
        "\n",
        "# train the net\n",
        "criterion = nn.MSELoss()\n",
        "optimizer = optim.SGD(net.parameters(), lr=0.001)\n",
        "for i in range(100):\n",
        "    net.zero_grad()\n",
        "    output = net(random_input)\n",
        "    loss = criterion(output, random_target)\n",
        "    loss.backward()\n",
        "    optimizer.step()\n",
        "\n",
        "# print the trained fc2 weight\n",
        "print('fc2 weight after train:')\n",
        "print(net.fc2.weight)\n"
      ],
      "execution_count": 0,
      "outputs": []
    },
    {
      "cell_type": "markdown",
      "metadata": {
        "id": "wwlzszP4GKuy",
        "colab_type": "text"
      },
      "source": [
        "# Переопределение модели"
      ]
    },
    {
      "cell_type": "code",
      "metadata": {
        "id": "j4hrhA_PD_DV",
        "colab_type": "code",
        "colab": {}
      },
      "source": [
        "# save the net\n",
        "torch.save(net.state_dict(), 'model')\n",
        "\n",
        "# delete and redefine the net\n",
        "del net\n",
        "net = Net()\n",
        "\n",
        "# load the weight\n",
        "net.load_state_dict(torch.load('model'))\n",
        "\n",
        "# print the pre-trained fc2 weight\n",
        "print('fc2 pretrained weight (same as the one above):')\n",
        "print(net.fc2.weight)\n",
        "\n",
        "# define new random data\n",
        "random_input = Variable(torch.randn(100,10))\n",
        "random_target = torch.zeros(random_input.shape[0],1)\n",
        "random_target[:,0] = (random_input**2).sum(axis=1)\n",
        "\n",
        "# we want to freeze the fc2 layer this time: only train fc1 and fc3\n",
        "net.fc2.weight.requires_grad = False\n",
        "net.fc2.bias.requires_grad = False\n",
        "\n",
        "# train again\n",
        "criterion = nn.MSELoss()\n",
        "\n",
        "# NOTE: pytorch optimizer explicitly accepts parameter that requires grad\n",
        "# see https://github.com/pytorch/pytorch/issues/679\n",
        "#optimizer = optim.Adam(filter(lambda p: p.requires_grad, net.parameters()), lr=0.001)\n",
        "# this raises ValueError: optimizing a parameter that doesn't require gradients\n",
        "optimizer = optim.Adam(net.parameters(), lr=0.001)\n",
        "\n",
        "for i in range(100):\n",
        "    net.zero_grad()\n",
        "    output = net(random_input)\n",
        "    loss = criterion(output, random_target)\n",
        "    loss.backward()\n",
        "    optimizer.step()\n"
      ],
      "execution_count": 0,
      "outputs": []
    },
    {
      "cell_type": "markdown",
      "metadata": {
        "id": "cM_64BC5GPBE",
        "colab_type": "text"
      },
      "source": [
        "# Сравнение моделей"
      ]
    },
    {
      "cell_type": "code",
      "metadata": {
        "id": "Y1Axs3bdFUlo",
        "colab_type": "code",
        "colab": {}
      },
      "source": [
        "\n",
        "# print the retrained fc2 weight\n",
        "# note that the weight is same as the one before retraining: only fc1 & fc3 changed\n",
        "print('fc2 weight (frozen) after retrain:')\n",
        "print(net.fc2.weight)\n",
        "\n",
        "# let's unfreeze the fc2 layer this time for extra tuning\n",
        "net.fc2.weight.requires_grad = True\n",
        "net.fc2.bias.requires_grad = True\n",
        "\n",
        "# add the unfrozen fc2 weight to the current optimizer\n",
        "#optimizer.add_param_group({'params': net.fc2.parameters()})\n",
        "\n",
        "# re-retrain\n",
        "for i in range(100):\n",
        "    net.zero_grad()\n",
        "    output = net(random_input)\n",
        "    loss = criterion(output, random_target)\n",
        "    loss.backward()\n",
        "    optimizer.step()\n",
        "\n",
        "# print the re-retrained fc2 weight\n",
        "# note that this time the fc2 weight also changed\n",
        "print('fc2 weight (unfrozen) after re-retrain:')\n",
        "print(net.fc2.weight)"
      ],
      "execution_count": 0,
      "outputs": []
    },
    {
      "cell_type": "code",
      "metadata": {
        "id": "GczFvGIxIubm",
        "colab_type": "code",
        "colab": {}
      },
      "source": [
        ""
      ],
      "execution_count": 0,
      "outputs": []
    }
  ]
}